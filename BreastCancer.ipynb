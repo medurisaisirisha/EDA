{
 "cells": [
  {
   "cell_type": "code",
   "execution_count": 15,
   "id": "dea61341-86e8-4e0f-a56f-37bddcb4fabe",
   "metadata": {},
   "outputs": [
    {
     "name": "stdout",
     "output_type": "stream",
     "text": [
      "Train (191, 9) (191,)\n",
      "Test (95, 9) (95,)\n",
      "Accuracy: 75.79\n"
     ]
    }
   ],
   "source": [
    "from pandas import read_csv\n",
    "from sklearn.model_selection import train_test_split\n",
    "from sklearn.preprocessing import LabelEncoder\n",
    "from sklearn.preprocessing import OrdinalEncoder\n",
    "from sklearn.feature_selection import SelectKBest\n",
    "from sklearn.feature_selection import mutual_info_classif\n",
    "from sklearn.linear_model import LogisticRegression\n",
    "from matplotlib import pyplot\n",
    "from sklearn.metrics import accuracy_score\n",
    "\n",
    "#load the dataset\n",
    "def load_dataset(filename):\n",
    "    data=read_csv(filename,header=None)\n",
    "    dataset=data.values\n",
    "    X=dataset[:,:-1]\n",
    "    y=dataset[:,-1]\n",
    "    X=X.astype(str)\n",
    "    return X,y\n",
    "#prepare input data\n",
    "def prepare_inputs(X_train,X_test):\n",
    "    oe=OrdinalEncoder()\n",
    "    oe.fit(X_train)\n",
    "    X_train_enc=oe.transform(X_train)\n",
    "    X_test_enc=oe.transform(X_test)\n",
    "    return X_train_enc,X_test_enc\n",
    "#prepare target \n",
    "def prepare_targets(y_train,y_test):\n",
    "    le=LabelEncoder()\n",
    "    le.fit(y_train)\n",
    "    y_train_enc=le.transform(y_train)\n",
    "    y_test_enc=le.transform(y_test)\n",
    "    return y_train_enc,y_test_enc\n",
    "X,y=load_dataset('breast-cancer.csv')\n",
    "X_train, X_test, y_train, y_test = train_test_split(X, y, test_size=0.33, random_state=1)\n",
    "X_train_enc,X_test_enc=prepare_inputs(X_train,X_test)\n",
    "y_train_enc,y_test_enc=prepare_targets(y_train,y_test)\n",
    "print('Train', X_train_enc.shape, y_train_enc.shape)\n",
    "print('Test', X_test_enc.shape, y_test_enc.shape)\n",
    "# fit the model\n",
    "model = LogisticRegression(solver='lbfgs')\n",
    "model.fit(X_train_enc, y_train_enc)\n",
    "# evaluate the model\n",
    "yhat = model.predict(X_test_enc)\n",
    "# evaluate predictions\n",
    "accuracy = accuracy_score(y_test_enc, yhat)\n",
    "print('Accuracy: %.2f' % (accuracy*100))"
   ]
  },
  {
   "cell_type": "code",
   "execution_count": 17,
   "id": "51571095-f630-4a23-a6b6-1405ff2bac5c",
   "metadata": {},
   "outputs": [],
   "source": [
    "# feature selection\n",
    "def select_features(X_train, y_train, X_test):\n",
    "    fs = SelectKBest(score_func=chi2, k=4)\n",
    "    fs.fit(X_train, y_train)\n",
    "    X_train_fs = fs.transform(X_train)\n",
    "    X_test_fs = fs.transform(X_test)\n",
    "    return X_train_fs, X_test_fs"
   ]
  },
  {
   "cell_type": "code",
   "execution_count": 19,
   "id": "82b151f9-41c2-4872-8f20-9b663da1b615",
   "metadata": {},
   "outputs": [
    {
     "name": "stdout",
     "output_type": "stream",
     "text": [
      "Accuracy: 74.74\n"
     ]
    }
   ],
   "source": [
    "from pandas import read_csv\n",
    "from sklearn.model_selection import train_test_split\n",
    "from sklearn.preprocessing import LabelEncoder\n",
    "from sklearn.preprocessing import OrdinalEncoder\n",
    "from sklearn.feature_selection import SelectKBest\n",
    "from sklearn.feature_selection import mutual_info_classif\n",
    "from sklearn.linear_model import LogisticRegression\n",
    "from matplotlib import pyplot\n",
    "from sklearn.metrics import accuracy_score\n",
    "from sklearn.feature_selection import chi2\n",
    "\n",
    "#load the dataset\n",
    "def load_dataset(filename):\n",
    "    data=read_csv(filename,header=None)\n",
    "    dataset=data.values\n",
    "    X=dataset[:,:-1]\n",
    "    y=dataset[:,-1]\n",
    "    X=X.astype(str)\n",
    "    return X,y\n",
    "#prepare input data\n",
    "def prepare_inputs(X_train,X_test):\n",
    "    oe=OrdinalEncoder()\n",
    "    oe.fit(X_train)\n",
    "    X_train_enc=oe.transform(X_train)\n",
    "    X_test_enc=oe.transform(X_test)\n",
    "    return X_train_enc,X_test_enc\n",
    "#prepare target \n",
    "def prepare_targets(y_train,y_test):\n",
    "    le=LabelEncoder()\n",
    "    le.fit(y_train)\n",
    "    y_train_enc=le.transform(y_train)\n",
    "    y_test_enc=le.transform(y_test)\n",
    "    return y_train_enc,y_test_enc\n",
    "# feature selection\n",
    "def select_features(X_train, y_train, X_test):\n",
    "    fs = SelectKBest(score_func=chi2, k=4)\n",
    "    fs.fit(X_train, y_train)\n",
    "    X_train_fs = fs.transform(X_train)\n",
    "    X_test_fs = fs.transform(X_test)\n",
    "    return X_train_fs, X_test_fs\n",
    "X,y=load_dataset('breast-cancer.csv')\n",
    "X_train, X_test, y_train, y_test = train_test_split(X, y, test_size=0.33, random_state=1)\n",
    "X_train_enc,X_test_enc=prepare_inputs(X_train,X_test)\n",
    "y_train_enc,y_test_enc=prepare_targets(y_train,y_test)\n",
    "X_train_fs, X_test_fs = select_features(X_train_enc, y_train_enc, X_test_enc)\n",
    "model=LogisticRegression(solver='lbfgs')\n",
    "model.fit(X_train_fs,y_train_enc)\n",
    "yhat=model.predict(X_test_fs)\n",
    "accuracy=accuracy_score(y_test_enc,yhat)\n",
    "print('Accuracy: %.2f' %(accuracy*100))"
   ]
  },
  {
   "cell_type": "code",
   "execution_count": 21,
   "id": "9f50617c-05f5-41d5-9c41-f929b9bf52fd",
   "metadata": {},
   "outputs": [
    {
     "name": "stdout",
     "output_type": "stream",
     "text": [
      "Accuracy: 77.89\n"
     ]
    }
   ],
   "source": [
    "from pandas import read_csv\n",
    "from sklearn.model_selection import train_test_split\n",
    "from sklearn.preprocessing import LabelEncoder\n",
    "from sklearn.preprocessing import OrdinalEncoder\n",
    "from sklearn.feature_selection import SelectKBest\n",
    "from sklearn.feature_selection import mutual_info_classif\n",
    "from sklearn.linear_model import LogisticRegression\n",
    "from matplotlib import pyplot\n",
    "from sklearn.metrics import accuracy_score\n",
    "from sklearn.feature_selection import chi2\n",
    "\n",
    "#load the dataset\n",
    "def load_dataset(filename):\n",
    "    data=read_csv(filename,header=None)\n",
    "    dataset=data.values\n",
    "    X=dataset[:,:-1]\n",
    "    y=dataset[:,-1]\n",
    "    X=X.astype(str)\n",
    "    return X,y\n",
    "#prepare input data\n",
    "def prepare_inputs(X_train,X_test):\n",
    "    oe=OrdinalEncoder()\n",
    "    oe.fit(X_train)\n",
    "    X_train_enc=oe.transform(X_train)\n",
    "    X_test_enc=oe.transform(X_test)\n",
    "    return X_train_enc,X_test_enc\n",
    "#prepare target \n",
    "def prepare_targets(y_train,y_test):\n",
    "    le=LabelEncoder()\n",
    "    le.fit(y_train)\n",
    "    y_train_enc=le.transform(y_train)\n",
    "    y_test_enc=le.transform(y_test)\n",
    "    return y_train_enc,y_test_enc\n",
    "# feature selection using mutual information gain\n",
    "def select_features(X_train, y_train, X_test):\n",
    "    fs = SelectKBest(score_func=mutual_info_classif, k=4)\n",
    "    fs.fit(X_train, y_train)\n",
    "    X_train_fs = fs.transform(X_train)\n",
    "    X_test_fs = fs.transform(X_test)\n",
    "    return X_train_fs, X_test_fs\n",
    "X,y=load_dataset('breast-cancer.csv')\n",
    "X_train, X_test, y_train, y_test = train_test_split(X, y, test_size=0.33, random_state=1)\n",
    "X_train_enc,X_test_enc=prepare_inputs(X_train,X_test)\n",
    "y_train_enc,y_test_enc=prepare_targets(y_train,y_test)\n",
    "X_train_fs, X_test_fs = select_features(X_train_enc, y_train_enc, X_test_enc)\n",
    "model=LogisticRegression(solver='lbfgs')\n",
    "model.fit(X_train_fs,y_train_enc)\n",
    "yhat=model.predict(X_test_fs)\n",
    "accuracy=accuracy_score(y_test_enc,yhat)\n",
    "print('Accuracy: %.2f' %(accuracy*100))"
   ]
  },
  {
   "cell_type": "code",
   "execution_count": null,
   "id": "cfe01205-6913-49ef-bc1a-1a69bed7733f",
   "metadata": {},
   "outputs": [],
   "source": []
  }
 ],
 "metadata": {
  "kernelspec": {
   "display_name": "Python 3 (ipykernel)",
   "language": "python",
   "name": "python3"
  },
  "language_info": {
   "codemirror_mode": {
    "name": "ipython",
    "version": 3
   },
   "file_extension": ".py",
   "mimetype": "text/x-python",
   "name": "python",
   "nbconvert_exporter": "python",
   "pygments_lexer": "ipython3",
   "version": "3.8.10"
  }
 },
 "nbformat": 4,
 "nbformat_minor": 5
}

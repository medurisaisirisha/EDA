{
 "cells": [
  {
   "cell_type": "code",
   "execution_count": 20,
   "id": "2d791e3b-0c6d-4383-b6ad-30574b32e6db",
   "metadata": {},
   "outputs": [
    {
     "name": "stdout",
     "output_type": "stream",
     "text": [
      "length of data:10000\n",
      "Identified outliers: 29\n",
      "Non outliers: 9971\n"
     ]
    }
   ],
   "source": [
    "# identify outliers with standard deviation\n",
    "from numpy.random import seed\n",
    "from numpy.random import randn\n",
    "from numpy import mean\n",
    "from numpy import std\n",
    "from numpy import percentile\n",
    "seed(1)\n",
    "data=5*randn(10000)+50\n",
    "print('length of data:%d' %len(data))\n",
    "data_mean=mean(data)\n",
    "data_stdv=std(data)\n",
    "cut_off=data_stdv*3\n",
    "lower, upper=data_mean-cut_off,data_mean+cut_off\n",
    "outliers=[x for x in data if x<lower or x>upper]\n",
    "print('Identified outliers: %d' %len(outliers))\n",
    "outliers_removed=[x for x in data if x>=lower and x<=upper]\n",
    "print('Non outliers: %d' %len(outliers_removed))"
   ]
  },
  {
   "cell_type": "code",
   "execution_count": 21,
   "id": "ae097251-256e-4a7b-849c-699ecbf98d3b",
   "metadata": {},
   "outputs": [
    {
     "name": "stdout",
     "output_type": "stream",
     "text": [
      "Percentiles 25th=%0.3f , 75th=%0.3f, IQR=%0.3f 46.685375790489445 53.35904417735179 6.673668386862346\n"
     ]
    }
   ],
   "source": [
    "# identify outliers with interquartile range\n",
    "q25,q75=percentile(data,25),percentile(data,75)\n",
    "iqr=q75-q25\n",
    "print('Percentiles 25th=%0.3f , 75th=%0.3f, IQR=%0.3f',q25,q75,iqr)"
   ]
  },
  {
   "cell_type": "code",
   "execution_count": 22,
   "id": "cc26c653-97a9-4852-ac53-1c3c4cad44fd",
   "metadata": {},
   "outputs": [
    {
     "name": "stdout",
     "output_type": "stream",
     "text": [
      "Number of outliers: 81\n",
      "Non outliers: 9919\n"
     ]
    }
   ],
   "source": [
    "cut_off=1.5*iqr\n",
    "lower,upper=q25-cut_off,q75+cut_off\n",
    "outliers=[x for x in data if x<lower or x>upper]\n",
    "print('Number of outliers: %d' %len(outliers))\n",
    "outliers_removed=[x for x in data if x>=lower and x<=upper]\n",
    "print('Non outliers: %d' %len(outliers_removed))"
   ]
  },
  {
   "cell_type": "code",
   "execution_count": 32,
   "id": "41214cfc-3477-4b45-a8ef-6c6f34fd5e9f",
   "metadata": {},
   "outputs": [
    {
     "name": "stdout",
     "output_type": "stream",
     "text": [
      "(506, 13) (506,)\n",
      "(339, 13) (167, 13) (339,) (167,)\n",
      "MAE :%.3f 3.4174722788016645\n"
     ]
    }
   ],
   "source": [
    "from pandas import read_csv\n",
    "from sklearn.model_selection import train_test_split\n",
    "from sklearn.linear_model import LinearRegression\n",
    "from sklearn.metrics import mean_absolute_error\n",
    "from sklearn.neighbors import LocalOutlierFactor\n",
    "df=read_csv('housing.csv',header=None)\n",
    "data=df.values\n",
    "X,y=data[:,:-1],data[:,-1]\n",
    "print(X.shape,y.shape)\n",
    "X_train,X_test,y_train,y_test=train_test_split(X,y,test_size=0.33,random_state=1)\n",
    "print(X_train.shape,X_test.shape,y_train.shape,y_test.shape)\n",
    "model=LinearRegression()\n",
    "model.fit(X_train,y_train)\n",
    "yhat=model.predict(X_test)\n",
    "mae=mean_absolute_error(y_test,yhat)\n",
    "print('MAE :%.3f',mae)"
   ]
  },
  {
   "cell_type": "code",
   "execution_count": 34,
   "id": "fd39b568-542f-4a4f-9875-7380bd4707dc",
   "metadata": {},
   "outputs": [
    {
     "name": "stdout",
     "output_type": "stream",
     "text": [
      "(506, 13) (506,)\n",
      "(339, 13) (167, 13) (339,) (167,)\n",
      "(305, 13) (305,)\n",
      "MAE :%.3f 3.3559923292852263\n"
     ]
    }
   ],
   "source": [
    "from pandas import read_csv\n",
    "from sklearn.model_selection import train_test_split\n",
    "from sklearn.linear_model import LinearRegression\n",
    "from sklearn.metrics import mean_absolute_error\n",
    "from sklearn.neighbors import LocalOutlierFactor\n",
    "df=read_csv('housing.csv',header=None)\n",
    "data=df.values\n",
    "X,y=data[:,:-1],data[:,-1]\n",
    "print(X.shape,y.shape)\n",
    "X_train,X_test,y_train,y_test=train_test_split(X,y,test_size=0.33,random_state=1)\n",
    "print(X_train.shape,X_test.shape,y_train.shape,y_test.shape)\n",
    "# identify outliers in the training dataset\n",
    "lof=LocalOutlierFactor()\n",
    "yhat=lof.fit_predict(X_train)\n",
    "# select all rows that are not outliers\n",
    "mask=yhat!=-1\n",
    "X_train,y_train=X_train[mask,:],y_train[mask]\n",
    "# summarize the shape of the updated training dataset\n",
    "print(X_train.shape, y_train.shape)\n",
    "model=LinearRegression()\n",
    "model.fit(X_train,y_train)\n",
    "yhat=model.predict(X_test)\n",
    "mae=mean_absolute_error(y_test,yhat)\n",
    "print('MAE :%.3f',mae)"
   ]
  },
  {
   "cell_type": "code",
   "execution_count": null,
   "id": "a826ff2b-0cb6-496b-a79e-0ad6cf2417f0",
   "metadata": {},
   "outputs": [],
   "source": []
  }
 ],
 "metadata": {
  "kernelspec": {
   "display_name": "Python 3 (ipykernel)",
   "language": "python",
   "name": "python3"
  },
  "language_info": {
   "codemirror_mode": {
    "name": "ipython",
    "version": 3
   },
   "file_extension": ".py",
   "mimetype": "text/x-python",
   "name": "python",
   "nbconvert_exporter": "python",
   "pygments_lexer": "ipython3",
   "version": "3.8.10"
  }
 },
 "nbformat": 4,
 "nbformat_minor": 5
}
